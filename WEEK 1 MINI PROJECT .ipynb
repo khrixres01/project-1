{
 "cells": [
  {
   "cell_type": "code",
   "execution_count": 1,
   "metadata": {},
   "outputs": [
    {
     "name": "stdout",
     "output_type": "stream",
     "text": [
      "usser input 1\n",
      "negative words occurence: 0\n",
      " percentage is: 0%\n",
      "-\n",
      "Bad: 0 times, Not good: 0 times, Poor occured: 0 times,\n"
     ]
    }
   ],
   "source": [
    "x = input(\"usser input \")\n",
    "\n",
    "n = [\"bad\", \"notgood\", \"poor\"] \n",
    "\n",
    "\n",
    "t = 0 \n",
    "a = 0\n",
    "b = 0\n",
    "c = 0\n",
    "\n",
    "\n",
    "y = x.replace(\"not good\", \"notgood\")\n",
    "for i in y.split():\n",
    "    if i in n:\n",
    "        t += 1\n",
    "print(f'negative words occurence: {t}')\n",
    "\n",
    "per = t / (len(x.split()) + 1) * 100\n",
    "print(f' percentage is: {round(per)}%')\n",
    "\n",
    "if per > 5:\n",
    "    print(\"+\")\n",
    "else:\n",
    "    print(\"-\")\n",
    "    \n",
    "for i in y.split():      \n",
    "    if \"bad\" in i:\n",
    "        a += 1\n",
    "    if \"notgood\" in i:\n",
    "        b += 1\n",
    "    if \"poor\" in i:\n",
    "        c += 1\n",
    "    \n",
    "\n",
    "print(f'Bad: {a} times, Not good: {b} times, Poor occured: {c} times,')"
   ]
  },
  {
   "cell_type": "code",
   "execution_count": null,
   "metadata": {},
   "outputs": [],
   "source": []
  }
 ],
 "metadata": {
  "kernelspec": {
   "display_name": "Python 3",
   "language": "python",
   "name": "python3"
  },
  "language_info": {
   "codemirror_mode": {
    "name": "ipython",
    "version": 3
   },
   "file_extension": ".py",
   "mimetype": "text/x-python",
   "name": "python",
   "nbconvert_exporter": "python",
   "pygments_lexer": "ipython3",
   "version": "3.8.5"
  }
 },
 "nbformat": 4,
 "nbformat_minor": 4
}
